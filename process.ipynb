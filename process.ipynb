{
 "nbformat": 4,
 "nbformat_minor": 2,
 "metadata": {
  "language_info": {
   "name": "python",
   "codemirror_mode": {
    "name": "ipython",
    "version": 3
   },
   "version": "3.6.9-final"
  },
  "orig_nbformat": 2,
  "file_extension": ".py",
  "mimetype": "text/x-python",
  "name": "python",
  "npconvert_exporter": "python",
  "pygments_lexer": "ipython3",
  "version": 3,
  "kernelspec": {
   "name": "python36964bitbioengprojectpipenv0c9303d8cf88404d8cb104be58f3a4eb",
   "display_name": "Python 3.6.9 64-bit ('bioeng-project': pipenv)"
  }
 },
 "cells": [
  {
   "cell_type": "markdown",
   "metadata": {},
   "source": [
    "## Obtaining coordinates from a FI network using UMAP"
   ]
  },
  {
   "cell_type": "code",
   "execution_count": 1,
   "metadata": {},
   "outputs": [],
   "source": [
    "# Importing necessary libraries\n",
    "import matplotlib.pyplot as plt\n",
    "import numpy as np\n",
    "import pandas as pd\n",
    "import umap\n",
    "\n",
    "# Importing Node2Vec embeddings\n",
    "emb = pd.read_csv('n2v-out.emb', skiprows = 1, sep = ' ', header = None, index_col=0)\n",
    "emb_data = emb.to_numpy()\n",
    "emb_labels = emb.index.to_numpy()\n",
    "\n",
    "# UMAP\n",
    "umap_emb = umap.UMAP(\n",
    "    n_epochs = 400,\n",
    "    random_state = 42,\n",
    "    metric = 'dice',\n",
    "    output_metric = 'mahalanobis'\n",
    ").fit_transform(emb_data)"
   ]
  },
  {
   "cell_type": "code",
   "execution_count": 9,
   "metadata": {},
   "outputs": [],
   "source": [
    "umap_emb_x, umap_emb_y = zip(*umap_emb)\n",
    "umap_coord = pd.DataFrame([emb_labels, umap_emb_x, umap_emb_y]).transpose().rename(columns = {0: 'node_id', 1: 'x', 2: 'y'})"
   ]
  },
  {
   "cell_type": "code",
   "execution_count": 10,
   "metadata": {},
   "outputs": [
    {
     "output_type": "execute_result",
     "data": {
      "text/plain": "       node_id          x         y\n0       4923.0  12.825298  3.014132\n1       1059.0  13.220130  2.583034\n2        145.0  12.807132  3.151362\n3        872.0  12.943302  0.677321\n4       2304.0  13.129017  1.030829\n...        ...        ...       ...\n10951   8980.0   9.994845  2.994419\n10952  10114.0  11.805233  2.998760\n10953   8022.0  10.399275  4.330402\n10954  10670.0   8.666698  6.282478\n10955   8641.0  11.283865  3.893114\n\n[10956 rows x 3 columns]",
      "text/html": "<div>\n<style scoped>\n    .dataframe tbody tr th:only-of-type {\n        vertical-align: middle;\n    }\n\n    .dataframe tbody tr th {\n        vertical-align: top;\n    }\n\n    .dataframe thead th {\n        text-align: right;\n    }\n</style>\n<table border=\"1\" class=\"dataframe\">\n  <thead>\n    <tr style=\"text-align: right;\">\n      <th></th>\n      <th>node_id</th>\n      <th>x</th>\n      <th>y</th>\n    </tr>\n  </thead>\n  <tbody>\n    <tr>\n      <th>0</th>\n      <td>4923.0</td>\n      <td>12.825298</td>\n      <td>3.014132</td>\n    </tr>\n    <tr>\n      <th>1</th>\n      <td>1059.0</td>\n      <td>13.220130</td>\n      <td>2.583034</td>\n    </tr>\n    <tr>\n      <th>2</th>\n      <td>145.0</td>\n      <td>12.807132</td>\n      <td>3.151362</td>\n    </tr>\n    <tr>\n      <th>3</th>\n      <td>872.0</td>\n      <td>12.943302</td>\n      <td>0.677321</td>\n    </tr>\n    <tr>\n      <th>4</th>\n      <td>2304.0</td>\n      <td>13.129017</td>\n      <td>1.030829</td>\n    </tr>\n    <tr>\n      <th>...</th>\n      <td>...</td>\n      <td>...</td>\n      <td>...</td>\n    </tr>\n    <tr>\n      <th>10951</th>\n      <td>8980.0</td>\n      <td>9.994845</td>\n      <td>2.994419</td>\n    </tr>\n    <tr>\n      <th>10952</th>\n      <td>10114.0</td>\n      <td>11.805233</td>\n      <td>2.998760</td>\n    </tr>\n    <tr>\n      <th>10953</th>\n      <td>8022.0</td>\n      <td>10.399275</td>\n      <td>4.330402</td>\n    </tr>\n    <tr>\n      <th>10954</th>\n      <td>10670.0</td>\n      <td>8.666698</td>\n      <td>6.282478</td>\n    </tr>\n    <tr>\n      <th>10955</th>\n      <td>8641.0</td>\n      <td>11.283865</td>\n      <td>3.893114</td>\n    </tr>\n  </tbody>\n</table>\n<p>10956 rows × 3 columns</p>\n</div>"
     },
     "metadata": {},
     "execution_count": 10
    }
   ],
   "source": [
    "umap_coord"
   ]
  },
  {
   "cell_type": "markdown",
   "metadata": {},
   "source": [
    "## Obtaining the template for UniProt/ENSEMBL/node id conversions"
   ]
  },
  {
   "cell_type": "code",
   "execution_count": 44,
   "metadata": {},
   "outputs": [],
   "source": [
    "network = pd.read_csv('FIs_043009.txt', header=None, sep = ' ').rename(columns = {0: 'from', 1: 'to'})\n",
    "biomart = pd.read_csv('mart_export.tsv', sep='\\t')\n",
    "used_uprots = pd.read_csv('node_id_name.tsv', sep='\\t').rename(columns = {'name': 'UniProtKB Gene Name ID'})\n",
    "\n",
    "human_genes = biomart.drop_duplicates(subset = 'Gene stable ID', keep = 'first', ignore_index = True).sort_values(by = 'Gene stable ID', ignore_index = True).dropna(subset = ['UniProtKB Gene Name ID', 'UniProtKB/Swiss-Prot ID', 'UniProtKB/TrEMBL ID'], how = 'all').fillna(axis = 1, method = 'bfill').drop(columns = ['UniProtKB/Swiss-Prot ID', 'UniProtKB/TrEMBL ID'])"
   ]
  },
  {
   "cell_type": "code",
   "execution_count": 45,
   "metadata": {},
   "outputs": [
    {
     "output_type": "execute_result",
     "data": {
      "text/plain": "        Gene stable ID UniProtKB Gene Name ID\n0      ENSG00000000003                 O43657\n1      ENSG00000000005                 Q9H2S6\n2      ENSG00000000419                 O60762\n3      ENSG00000000457                 Q8IZE3\n4      ENSG00000000460                 Q9NSG2\n...                ...                    ...\n22788  ENSG00000288513                 Q96R69\n22789  ENSG00000288516                 P17612\n22791  ENSG00000288520                 G9CGD6\n22793  ENSG00000288534                 H3BSU7\n22794  ENSG00000288547                 Q3SXR2\n\n[22548 rows x 2 columns]",
      "text/html": "<div>\n<style scoped>\n    .dataframe tbody tr th:only-of-type {\n        vertical-align: middle;\n    }\n\n    .dataframe tbody tr th {\n        vertical-align: top;\n    }\n\n    .dataframe thead th {\n        text-align: right;\n    }\n</style>\n<table border=\"1\" class=\"dataframe\">\n  <thead>\n    <tr style=\"text-align: right;\">\n      <th></th>\n      <th>Gene stable ID</th>\n      <th>UniProtKB Gene Name ID</th>\n    </tr>\n  </thead>\n  <tbody>\n    <tr>\n      <th>0</th>\n      <td>ENSG00000000003</td>\n      <td>O43657</td>\n    </tr>\n    <tr>\n      <th>1</th>\n      <td>ENSG00000000005</td>\n      <td>Q9H2S6</td>\n    </tr>\n    <tr>\n      <th>2</th>\n      <td>ENSG00000000419</td>\n      <td>O60762</td>\n    </tr>\n    <tr>\n      <th>3</th>\n      <td>ENSG00000000457</td>\n      <td>Q8IZE3</td>\n    </tr>\n    <tr>\n      <th>4</th>\n      <td>ENSG00000000460</td>\n      <td>Q9NSG2</td>\n    </tr>\n    <tr>\n      <th>...</th>\n      <td>...</td>\n      <td>...</td>\n    </tr>\n    <tr>\n      <th>22788</th>\n      <td>ENSG00000288513</td>\n      <td>Q96R69</td>\n    </tr>\n    <tr>\n      <th>22789</th>\n      <td>ENSG00000288516</td>\n      <td>P17612</td>\n    </tr>\n    <tr>\n      <th>22791</th>\n      <td>ENSG00000288520</td>\n      <td>G9CGD6</td>\n    </tr>\n    <tr>\n      <th>22793</th>\n      <td>ENSG00000288534</td>\n      <td>H3BSU7</td>\n    </tr>\n    <tr>\n      <th>22794</th>\n      <td>ENSG00000288547</td>\n      <td>Q3SXR2</td>\n    </tr>\n  </tbody>\n</table>\n<p>22548 rows × 2 columns</p>\n</div>"
     },
     "metadata": {},
     "execution_count": 45
    }
   ],
   "source": [
    "human_genes"
   ]
  },
  {
   "cell_type": "code",
   "execution_count": 52,
   "metadata": {},
   "outputs": [
    {
     "output_type": "execute_result",
     "data": {
      "text/plain": "      UniProtKB Gene Name ID  node_id\n0                     Q494X3        1\n1                     P26006        2\n2                     O43296        3\n3                     P83876        4\n4                     O95622        5\n...                      ...      ...\n10951                 Q8WU10    10952\n10952                 P12277    10953\n10953                 Q96T51    10954\n10954                 Q8ND90    10955\n10955                 Q7Z465    10956\n\n[10956 rows x 2 columns]",
      "text/html": "<div>\n<style scoped>\n    .dataframe tbody tr th:only-of-type {\n        vertical-align: middle;\n    }\n\n    .dataframe tbody tr th {\n        vertical-align: top;\n    }\n\n    .dataframe thead th {\n        text-align: right;\n    }\n</style>\n<table border=\"1\" class=\"dataframe\">\n  <thead>\n    <tr style=\"text-align: right;\">\n      <th></th>\n      <th>UniProtKB Gene Name ID</th>\n      <th>node_id</th>\n    </tr>\n  </thead>\n  <tbody>\n    <tr>\n      <th>0</th>\n      <td>Q494X3</td>\n      <td>1</td>\n    </tr>\n    <tr>\n      <th>1</th>\n      <td>P26006</td>\n      <td>2</td>\n    </tr>\n    <tr>\n      <th>2</th>\n      <td>O43296</td>\n      <td>3</td>\n    </tr>\n    <tr>\n      <th>3</th>\n      <td>P83876</td>\n      <td>4</td>\n    </tr>\n    <tr>\n      <th>4</th>\n      <td>O95622</td>\n      <td>5</td>\n    </tr>\n    <tr>\n      <th>...</th>\n      <td>...</td>\n      <td>...</td>\n    </tr>\n    <tr>\n      <th>10951</th>\n      <td>Q8WU10</td>\n      <td>10952</td>\n    </tr>\n    <tr>\n      <th>10952</th>\n      <td>P12277</td>\n      <td>10953</td>\n    </tr>\n    <tr>\n      <th>10953</th>\n      <td>Q96T51</td>\n      <td>10954</td>\n    </tr>\n    <tr>\n      <th>10954</th>\n      <td>Q8ND90</td>\n      <td>10955</td>\n    </tr>\n    <tr>\n      <th>10955</th>\n      <td>Q7Z465</td>\n      <td>10956</td>\n    </tr>\n  </tbody>\n</table>\n<p>10956 rows × 2 columns</p>\n</div>"
     },
     "metadata": {},
     "execution_count": 52
    }
   ],
   "source": [
    "used_uprots"
   ]
  },
  {
   "cell_type": "code",
   "execution_count": 55,
   "metadata": {},
   "outputs": [],
   "source": [
    "template = pd.merge(human_genes, used_uprots, how = 'inner', on = 'UniProtKB Gene Name ID')"
   ]
  },
  {
   "cell_type": "code",
   "execution_count": 56,
   "metadata": {},
   "outputs": [
    {
     "output_type": "execute_result",
     "data": {
      "text/plain": "        Gene stable ID UniProtKB Gene Name ID  node_id\n0      ENSG00000000419                 O60762     6479\n1      ENSG00000000938                 P09769     2261\n2      ENSG00000001084                 P48506     5576\n3      ENSG00000001167                 P23511     5652\n4      ENSG00000001617                 Q13275     5484\n...                ...                    ...      ...\n10223  ENSG00000285053                 Q15813     2744\n10224  ENSG00000284194                 O43819     6667\n10225  ENSG00000284723                 Q8NH09    10415\n10226  ENSG00000286169                 A9YTQ3     4206\n10227  ENSG00000288380                 Q8N1N5    10274\n\n[10228 rows x 3 columns]",
      "text/html": "<div>\n<style scoped>\n    .dataframe tbody tr th:only-of-type {\n        vertical-align: middle;\n    }\n\n    .dataframe tbody tr th {\n        vertical-align: top;\n    }\n\n    .dataframe thead th {\n        text-align: right;\n    }\n</style>\n<table border=\"1\" class=\"dataframe\">\n  <thead>\n    <tr style=\"text-align: right;\">\n      <th></th>\n      <th>Gene stable ID</th>\n      <th>UniProtKB Gene Name ID</th>\n      <th>node_id</th>\n    </tr>\n  </thead>\n  <tbody>\n    <tr>\n      <th>0</th>\n      <td>ENSG00000000419</td>\n      <td>O60762</td>\n      <td>6479</td>\n    </tr>\n    <tr>\n      <th>1</th>\n      <td>ENSG00000000938</td>\n      <td>P09769</td>\n      <td>2261</td>\n    </tr>\n    <tr>\n      <th>2</th>\n      <td>ENSG00000001084</td>\n      <td>P48506</td>\n      <td>5576</td>\n    </tr>\n    <tr>\n      <th>3</th>\n      <td>ENSG00000001167</td>\n      <td>P23511</td>\n      <td>5652</td>\n    </tr>\n    <tr>\n      <th>4</th>\n      <td>ENSG00000001617</td>\n      <td>Q13275</td>\n      <td>5484</td>\n    </tr>\n    <tr>\n      <th>...</th>\n      <td>...</td>\n      <td>...</td>\n      <td>...</td>\n    </tr>\n    <tr>\n      <th>10223</th>\n      <td>ENSG00000285053</td>\n      <td>Q15813</td>\n      <td>2744</td>\n    </tr>\n    <tr>\n      <th>10224</th>\n      <td>ENSG00000284194</td>\n      <td>O43819</td>\n      <td>6667</td>\n    </tr>\n    <tr>\n      <th>10225</th>\n      <td>ENSG00000284723</td>\n      <td>Q8NH09</td>\n      <td>10415</td>\n    </tr>\n    <tr>\n      <th>10226</th>\n      <td>ENSG00000286169</td>\n      <td>A9YTQ3</td>\n      <td>4206</td>\n    </tr>\n    <tr>\n      <th>10227</th>\n      <td>ENSG00000288380</td>\n      <td>Q8N1N5</td>\n      <td>10274</td>\n    </tr>\n  </tbody>\n</table>\n<p>10228 rows × 3 columns</p>\n</div>"
     },
     "metadata": {},
     "execution_count": 56
    }
   ],
   "source": [
    "template"
   ]
  }
 ]
}