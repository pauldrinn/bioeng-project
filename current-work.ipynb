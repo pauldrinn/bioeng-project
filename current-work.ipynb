{
 "cells": [
  {
   "cell_type": "code",
   "execution_count": 1,
   "metadata": {},
   "outputs": [],
   "source": [
    "import pandas as pd\n",
    "\n",
    "gbrca = pd.read_csv('genes-in-brca.csv')\n",
    "ghuman = pd.read_csv('mart_export.tsv', sep='\\t')\n",
    "useduprots = pd.read_csv('node_id_name.tsv', sep='\\t')\n",
    "\n",
    "brcaens = pd.DataFrame(gbrca.iloc[:,1])\n",
    "humanens = ghuman.iloc[:,0:4]\n",
    "brcaens.columns = [humanens.columns[0]]\n",
    "\n",
    "network = pd.read_csv('FIs_043009.txt', header=None, sep = ' ').rename(columns = {0: 'from', 1: 'to'})"
   ]
  },
  {
   "cell_type": "code",
   "execution_count": 2,
   "metadata": {},
   "outputs": [
    {
     "output_type": "execute_result",
     "data": {
      "text/plain": "          from      to\n0       Q494X3  Q86V71\n1       P26006  P49747\n2       O43296  Q86UQ0\n3       P83876  Q07955\n4       O95622  Q02156\n...        ...     ...\n209983  P11274  Q13191\n209984  Q9UN73  Q9Y5G7\n209985  Q86V71  Q9UK10\n209986  P51512  P63267\n209987  B3KS54  P27987\n\n[209988 rows x 2 columns]",
      "text/html": "<div>\n<style scoped>\n    .dataframe tbody tr th:only-of-type {\n        vertical-align: middle;\n    }\n\n    .dataframe tbody tr th {\n        vertical-align: top;\n    }\n\n    .dataframe thead th {\n        text-align: right;\n    }\n</style>\n<table border=\"1\" class=\"dataframe\">\n  <thead>\n    <tr style=\"text-align: right;\">\n      <th></th>\n      <th>from</th>\n      <th>to</th>\n    </tr>\n  </thead>\n  <tbody>\n    <tr>\n      <th>0</th>\n      <td>Q494X3</td>\n      <td>Q86V71</td>\n    </tr>\n    <tr>\n      <th>1</th>\n      <td>P26006</td>\n      <td>P49747</td>\n    </tr>\n    <tr>\n      <th>2</th>\n      <td>O43296</td>\n      <td>Q86UQ0</td>\n    </tr>\n    <tr>\n      <th>3</th>\n      <td>P83876</td>\n      <td>Q07955</td>\n    </tr>\n    <tr>\n      <th>4</th>\n      <td>O95622</td>\n      <td>Q02156</td>\n    </tr>\n    <tr>\n      <th>...</th>\n      <td>...</td>\n      <td>...</td>\n    </tr>\n    <tr>\n      <th>209983</th>\n      <td>P11274</td>\n      <td>Q13191</td>\n    </tr>\n    <tr>\n      <th>209984</th>\n      <td>Q9UN73</td>\n      <td>Q9Y5G7</td>\n    </tr>\n    <tr>\n      <th>209985</th>\n      <td>Q86V71</td>\n      <td>Q9UK10</td>\n    </tr>\n    <tr>\n      <th>209986</th>\n      <td>P51512</td>\n      <td>P63267</td>\n    </tr>\n    <tr>\n      <th>209987</th>\n      <td>B3KS54</td>\n      <td>P27987</td>\n    </tr>\n  </tbody>\n</table>\n<p>209988 rows × 2 columns</p>\n</div>"
     },
     "metadata": {},
     "execution_count": 2
    }
   ],
   "source": [
    "network"
   ]
  },
  {
   "cell_type": "code",
   "execution_count": 4,
   "metadata": {},
   "outputs": [
    {
     "output_type": "execute_result",
     "data": {
      "text/plain": "        Gene stable ID  ... UniProtKB/TrEMBL ID\n0      ENSG00000000003  ...                 NaN\n1      ENSG00000000005  ...                 NaN\n2      ENSG00000000419  ...          A0A0S2Z4Y5\n3      ENSG00000000457  ...                 NaN\n4      ENSG00000000460  ...          A0A1B0GUP7\n...                ...  ...                 ...\n22788  ENSG00000288513  ...                 NaN\n22789  ENSG00000288516  ...          A0A024R7J0\n22791  ENSG00000288520  ...                 NaN\n22793  ENSG00000288534  ...              H3BSU7\n22794  ENSG00000288547  ...                 NaN\n\n[22548 rows x 4 columns]",
      "text/html": "<div>\n<style scoped>\n    .dataframe tbody tr th:only-of-type {\n        vertical-align: middle;\n    }\n\n    .dataframe tbody tr th {\n        vertical-align: top;\n    }\n\n    .dataframe thead th {\n        text-align: right;\n    }\n</style>\n<table border=\"1\" class=\"dataframe\">\n  <thead>\n    <tr style=\"text-align: right;\">\n      <th></th>\n      <th>Gene stable ID</th>\n      <th>UniProtKB Gene Name ID</th>\n      <th>UniProtKB/Swiss-Prot ID</th>\n      <th>UniProtKB/TrEMBL ID</th>\n    </tr>\n  </thead>\n  <tbody>\n    <tr>\n      <th>0</th>\n      <td>ENSG00000000003</td>\n      <td>O43657</td>\n      <td>O43657</td>\n      <td>NaN</td>\n    </tr>\n    <tr>\n      <th>1</th>\n      <td>ENSG00000000005</td>\n      <td>Q9H2S6</td>\n      <td>Q9H2S6</td>\n      <td>NaN</td>\n    </tr>\n    <tr>\n      <th>2</th>\n      <td>ENSG00000000419</td>\n      <td>O60762</td>\n      <td>O60762</td>\n      <td>A0A0S2Z4Y5</td>\n    </tr>\n    <tr>\n      <th>3</th>\n      <td>ENSG00000000457</td>\n      <td>Q8IZE3</td>\n      <td>Q8IZE3</td>\n      <td>NaN</td>\n    </tr>\n    <tr>\n      <th>4</th>\n      <td>ENSG00000000460</td>\n      <td>Q9NSG2</td>\n      <td>NaN</td>\n      <td>A0A1B0GUP7</td>\n    </tr>\n    <tr>\n      <th>...</th>\n      <td>...</td>\n      <td>...</td>\n      <td>...</td>\n      <td>...</td>\n    </tr>\n    <tr>\n      <th>22788</th>\n      <td>ENSG00000288513</td>\n      <td>Q96R69</td>\n      <td>NaN</td>\n      <td>NaN</td>\n    </tr>\n    <tr>\n      <th>22789</th>\n      <td>ENSG00000288516</td>\n      <td>P17612</td>\n      <td>NaN</td>\n      <td>A0A024R7J0</td>\n    </tr>\n    <tr>\n      <th>22791</th>\n      <td>ENSG00000288520</td>\n      <td>G9CGD6</td>\n      <td>G9CGD6</td>\n      <td>NaN</td>\n    </tr>\n    <tr>\n      <th>22793</th>\n      <td>ENSG00000288534</td>\n      <td>H3BSU7</td>\n      <td>NaN</td>\n      <td>H3BSU7</td>\n    </tr>\n    <tr>\n      <th>22794</th>\n      <td>ENSG00000288547</td>\n      <td>Q3SXR2</td>\n      <td>Q3SXR2</td>\n      <td>NaN</td>\n    </tr>\n  </tbody>\n</table>\n<p>22548 rows × 4 columns</p>\n</div>"
     },
     "metadata": {},
     "execution_count": 4
    }
   ],
   "source": [
    "newhumanens = humanens.drop_duplicates(subset = 'Gene stable ID', keep = 'first', ignore_index = True).sort_values(by = 'Gene stable ID', ignore_index = True).dropna(subset = ['UniProtKB Gene Name ID', 'UniProtKB/Swiss-Prot ID', 'UniProtKB/TrEMBL ID'], how = 'all')\n",
    "newhumanens"
   ]
  },
  {
   "cell_type": "code",
   "execution_count": 5,
   "metadata": {},
   "outputs": [
    {
     "output_type": "execute_result",
     "data": {
      "text/plain": "        Gene stable ID  ... UniProtKB/TrEMBL ID\n0      ENSG00000000003  ...                 NaN\n1      ENSG00000000005  ...                 NaN\n2      ENSG00000000419  ...          A0A0S2Z4Y5\n3      ENSG00000000457  ...                 NaN\n4      ENSG00000000460  ...          A0A1B0GUP7\n...                ...  ...                 ...\n19550  ENSG00000281406  ...          A0A494BZU2\n19551  ENSG00000281593  ...              H3BRR5\n19552  ENSG00000281613  ...          A0A0D9SFW1\n19553  ENSG00000281883  ...          A0A0D9SEW6\n19554  ENSG00000281887  ...          A0A087WTJ2\n\n[19555 rows x 4 columns]",
      "text/html": "<div>\n<style scoped>\n    .dataframe tbody tr th:only-of-type {\n        vertical-align: middle;\n    }\n\n    .dataframe tbody tr th {\n        vertical-align: top;\n    }\n\n    .dataframe thead th {\n        text-align: right;\n    }\n</style>\n<table border=\"1\" class=\"dataframe\">\n  <thead>\n    <tr style=\"text-align: right;\">\n      <th></th>\n      <th>Gene stable ID</th>\n      <th>UniProtKB Gene Name ID</th>\n      <th>UniProtKB/Swiss-Prot ID</th>\n      <th>UniProtKB/TrEMBL ID</th>\n    </tr>\n  </thead>\n  <tbody>\n    <tr>\n      <th>0</th>\n      <td>ENSG00000000003</td>\n      <td>O43657</td>\n      <td>O43657</td>\n      <td>NaN</td>\n    </tr>\n    <tr>\n      <th>1</th>\n      <td>ENSG00000000005</td>\n      <td>Q9H2S6</td>\n      <td>Q9H2S6</td>\n      <td>NaN</td>\n    </tr>\n    <tr>\n      <th>2</th>\n      <td>ENSG00000000419</td>\n      <td>O60762</td>\n      <td>O60762</td>\n      <td>A0A0S2Z4Y5</td>\n    </tr>\n    <tr>\n      <th>3</th>\n      <td>ENSG00000000457</td>\n      <td>Q8IZE3</td>\n      <td>Q8IZE3</td>\n      <td>NaN</td>\n    </tr>\n    <tr>\n      <th>4</th>\n      <td>ENSG00000000460</td>\n      <td>Q9NSG2</td>\n      <td>A0A1B0GUP7</td>\n      <td>A0A1B0GUP7</td>\n    </tr>\n    <tr>\n      <th>...</th>\n      <td>...</td>\n      <td>...</td>\n      <td>...</td>\n      <td>...</td>\n    </tr>\n    <tr>\n      <th>19550</th>\n      <td>ENSG00000281406</td>\n      <td>A0A494BZU2</td>\n      <td>A0A494BZU2</td>\n      <td>A0A494BZU2</td>\n    </tr>\n    <tr>\n      <th>19551</th>\n      <td>ENSG00000281593</td>\n      <td>H3BRR5</td>\n      <td>H3BRR5</td>\n      <td>H3BRR5</td>\n    </tr>\n    <tr>\n      <th>19552</th>\n      <td>ENSG00000281613</td>\n      <td>A0A0D9SFW1</td>\n      <td>A0A0D9SFW1</td>\n      <td>A0A0D9SFW1</td>\n    </tr>\n    <tr>\n      <th>19553</th>\n      <td>ENSG00000281883</td>\n      <td>A0A0D9SEW6</td>\n      <td>A0A0D9SEW6</td>\n      <td>A0A0D9SEW6</td>\n    </tr>\n    <tr>\n      <th>19554</th>\n      <td>ENSG00000281887</td>\n      <td>A0A087WTJ2</td>\n      <td>A0A087WTJ2</td>\n      <td>A0A087WTJ2</td>\n    </tr>\n  </tbody>\n</table>\n<p>19555 rows × 4 columns</p>\n</div>"
     },
     "metadata": {},
     "execution_count": 5
    }
   ],
   "source": [
    "final = pd.merge(newhumanens, brcaens, how = 'inner', on = ['Gene stable ID']).fillna(axis = 1, method = 'bfill')\n",
    "final"
   ]
  },
  {
   "cell_type": "code",
   "execution_count": 6,
   "metadata": {},
   "outputs": [
    {
     "output_type": "execute_result",
     "data": {
      "text/plain": "        Gene stable ID UniProtKB Gene Name ID\n0      ENSG00000000003                 O43657\n1      ENSG00000000005                 Q9H2S6\n2      ENSG00000000419                 O60762\n3      ENSG00000000457                 Q8IZE3\n4      ENSG00000000460                 Q9NSG2\n...                ...                    ...\n19550  ENSG00000281406             A0A494BZU2\n19551  ENSG00000281593                 H3BRR5\n19552  ENSG00000281613             A0A0D9SFW1\n19553  ENSG00000281883             A0A0D9SEW6\n19554  ENSG00000281887             A0A087WTJ2\n\n[19555 rows x 2 columns]",
      "text/html": "<div>\n<style scoped>\n    .dataframe tbody tr th:only-of-type {\n        vertical-align: middle;\n    }\n\n    .dataframe tbody tr th {\n        vertical-align: top;\n    }\n\n    .dataframe thead th {\n        text-align: right;\n    }\n</style>\n<table border=\"1\" class=\"dataframe\">\n  <thead>\n    <tr style=\"text-align: right;\">\n      <th></th>\n      <th>Gene stable ID</th>\n      <th>UniProtKB Gene Name ID</th>\n    </tr>\n  </thead>\n  <tbody>\n    <tr>\n      <th>0</th>\n      <td>ENSG00000000003</td>\n      <td>O43657</td>\n    </tr>\n    <tr>\n      <th>1</th>\n      <td>ENSG00000000005</td>\n      <td>Q9H2S6</td>\n    </tr>\n    <tr>\n      <th>2</th>\n      <td>ENSG00000000419</td>\n      <td>O60762</td>\n    </tr>\n    <tr>\n      <th>3</th>\n      <td>ENSG00000000457</td>\n      <td>Q8IZE3</td>\n    </tr>\n    <tr>\n      <th>4</th>\n      <td>ENSG00000000460</td>\n      <td>Q9NSG2</td>\n    </tr>\n    <tr>\n      <th>...</th>\n      <td>...</td>\n      <td>...</td>\n    </tr>\n    <tr>\n      <th>19550</th>\n      <td>ENSG00000281406</td>\n      <td>A0A494BZU2</td>\n    </tr>\n    <tr>\n      <th>19551</th>\n      <td>ENSG00000281593</td>\n      <td>H3BRR5</td>\n    </tr>\n    <tr>\n      <th>19552</th>\n      <td>ENSG00000281613</td>\n      <td>A0A0D9SFW1</td>\n    </tr>\n    <tr>\n      <th>19553</th>\n      <td>ENSG00000281883</td>\n      <td>A0A0D9SEW6</td>\n    </tr>\n    <tr>\n      <th>19554</th>\n      <td>ENSG00000281887</td>\n      <td>A0A087WTJ2</td>\n    </tr>\n  </tbody>\n</table>\n<p>19555 rows × 2 columns</p>\n</div>"
     },
     "metadata": {},
     "execution_count": 6
    }
   ],
   "source": [
    "deffinal = final.iloc[:,[0,1]]\n",
    "deffinal"
   ]
  },
  {
   "cell_type": "code",
   "execution_count": 7,
   "metadata": {},
   "outputs": [],
   "source": [
    "useduprots.columns = ['UniProtKB Gene Name ID', 'node_id']"
   ]
  },
  {
   "cell_type": "code",
   "execution_count": 8,
   "metadata": {},
   "outputs": [
    {
     "output_type": "execute_result",
     "data": {
      "text/plain": "      UniProtKB Gene Name ID  node_id\n0                     Q494X3        1\n1                     P26006        2\n2                     O43296        3\n3                     P83876        4\n4                     O95622        5\n...                      ...      ...\n10951                 Q8WU10    10952\n10952                 P12277    10953\n10953                 Q96T51    10954\n10954                 Q8ND90    10955\n10955                 Q7Z465    10956\n\n[10956 rows x 2 columns]",
      "text/html": "<div>\n<style scoped>\n    .dataframe tbody tr th:only-of-type {\n        vertical-align: middle;\n    }\n\n    .dataframe tbody tr th {\n        vertical-align: top;\n    }\n\n    .dataframe thead th {\n        text-align: right;\n    }\n</style>\n<table border=\"1\" class=\"dataframe\">\n  <thead>\n    <tr style=\"text-align: right;\">\n      <th></th>\n      <th>UniProtKB Gene Name ID</th>\n      <th>node_id</th>\n    </tr>\n  </thead>\n  <tbody>\n    <tr>\n      <th>0</th>\n      <td>Q494X3</td>\n      <td>1</td>\n    </tr>\n    <tr>\n      <th>1</th>\n      <td>P26006</td>\n      <td>2</td>\n    </tr>\n    <tr>\n      <th>2</th>\n      <td>O43296</td>\n      <td>3</td>\n    </tr>\n    <tr>\n      <th>3</th>\n      <td>P83876</td>\n      <td>4</td>\n    </tr>\n    <tr>\n      <th>4</th>\n      <td>O95622</td>\n      <td>5</td>\n    </tr>\n    <tr>\n      <th>...</th>\n      <td>...</td>\n      <td>...</td>\n    </tr>\n    <tr>\n      <th>10951</th>\n      <td>Q8WU10</td>\n      <td>10952</td>\n    </tr>\n    <tr>\n      <th>10952</th>\n      <td>P12277</td>\n      <td>10953</td>\n    </tr>\n    <tr>\n      <th>10953</th>\n      <td>Q96T51</td>\n      <td>10954</td>\n    </tr>\n    <tr>\n      <th>10954</th>\n      <td>Q8ND90</td>\n      <td>10955</td>\n    </tr>\n    <tr>\n      <th>10955</th>\n      <td>Q7Z465</td>\n      <td>10956</td>\n    </tr>\n  </tbody>\n</table>\n<p>10956 rows × 2 columns</p>\n</div>"
     },
     "metadata": {},
     "execution_count": 8
    }
   ],
   "source": [
    "useduprots"
   ]
  },
  {
   "cell_type": "code",
   "execution_count": 12,
   "metadata": {},
   "outputs": [
    {
     "output_type": "execute_result",
     "data": {
      "text/plain": "     UniProtKB Gene Name ID  node_id   Gene stable ID\n0                    O60762     6479  ENSG00000000419\n1                    P09769     2261  ENSG00000000938\n2                    P48506     5576  ENSG00000001084\n3                    P23511     5652  ENSG00000001167\n4                    Q13275     5484  ENSG00000001617\n...                     ...      ...              ...\n8915                 A6NGY5     2486  ENSG00000280021\n8916                 Q96RC9     9303  ENSG00000280090\n8917                 Q8NGR6     8431  ENSG00000280094\n8918                 Q8NH92     8979  ENSG00000280204\n8919                 Q8NH51     9544  ENSG00000280314\n\n[8920 rows x 3 columns]",
      "text/html": "<div>\n<style scoped>\n    .dataframe tbody tr th:only-of-type {\n        vertical-align: middle;\n    }\n\n    .dataframe tbody tr th {\n        vertical-align: top;\n    }\n\n    .dataframe thead th {\n        text-align: right;\n    }\n</style>\n<table border=\"1\" class=\"dataframe\">\n  <thead>\n    <tr style=\"text-align: right;\">\n      <th></th>\n      <th>UniProtKB Gene Name ID</th>\n      <th>node_id</th>\n      <th>Gene stable ID</th>\n    </tr>\n  </thead>\n  <tbody>\n    <tr>\n      <th>0</th>\n      <td>O60762</td>\n      <td>6479</td>\n      <td>ENSG00000000419</td>\n    </tr>\n    <tr>\n      <th>1</th>\n      <td>P09769</td>\n      <td>2261</td>\n      <td>ENSG00000000938</td>\n    </tr>\n    <tr>\n      <th>2</th>\n      <td>P48506</td>\n      <td>5576</td>\n      <td>ENSG00000001084</td>\n    </tr>\n    <tr>\n      <th>3</th>\n      <td>P23511</td>\n      <td>5652</td>\n      <td>ENSG00000001167</td>\n    </tr>\n    <tr>\n      <th>4</th>\n      <td>Q13275</td>\n      <td>5484</td>\n      <td>ENSG00000001617</td>\n    </tr>\n    <tr>\n      <th>...</th>\n      <td>...</td>\n      <td>...</td>\n      <td>...</td>\n    </tr>\n    <tr>\n      <th>8915</th>\n      <td>A6NGY5</td>\n      <td>2486</td>\n      <td>ENSG00000280021</td>\n    </tr>\n    <tr>\n      <th>8916</th>\n      <td>Q96RC9</td>\n      <td>9303</td>\n      <td>ENSG00000280090</td>\n    </tr>\n    <tr>\n      <th>8917</th>\n      <td>Q8NGR6</td>\n      <td>8431</td>\n      <td>ENSG00000280094</td>\n    </tr>\n    <tr>\n      <th>8918</th>\n      <td>Q8NH92</td>\n      <td>8979</td>\n      <td>ENSG00000280204</td>\n    </tr>\n    <tr>\n      <th>8919</th>\n      <td>Q8NH51</td>\n      <td>9544</td>\n      <td>ENSG00000280314</td>\n    </tr>\n  </tbody>\n</table>\n<p>8920 rows × 3 columns</p>\n</div>"
     },
     "metadata": {},
     "execution_count": 12
    }
   ],
   "source": [
    "newmerge = pd.merge(useduprots, deffinal, how = 'inner', on = ['UniProtKB Gene Name ID']).sort_values(by = 'Gene stable ID', ignore_index = True)\n",
    "newmerge"
   ]
  },
  {
   "cell_type": "code",
   "execution_count": 10,
   "metadata": {},
   "outputs": [],
   "source": [
    "newmerge.to_csv('annot.csv', index = False)"
   ]
  },
  {
   "cell_type": "code",
   "execution_count": null,
   "metadata": {},
   "outputs": [],
   "source": []
  }
 ],
 "metadata": {
  "kernelspec": {
   "display_name": "Python 3.6.9 64-bit ('bioeng-project': pipenv)",
   "language": "python",
   "name": "python36964bitbioengprojectpipenv0c9303d8cf88404d8cb104be58f3a4eb"
  },
  "language_info": {
   "codemirror_mode": {
    "name": "ipython",
    "version": 3
   },
   "file_extension": ".py",
   "mimetype": "text/x-python",
   "name": "python",
   "nbconvert_exporter": "python",
   "pygments_lexer": "ipython3",
   "version": "3.6.9-final"
  }
 },
 "nbformat": 4,
 "nbformat_minor": 4
}